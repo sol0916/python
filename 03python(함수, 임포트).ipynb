{
 "cells": [
  {
   "cell_type": "markdown",
   "id": "42c349f0",
   "metadata": {},
   "source": [
    "### 함수(메서드)\n",
    "    - def 함수명 :"
   ]
  },
  {
   "cell_type": "code",
   "execution_count": null,
   "id": "ef38249d",
   "metadata": {},
   "outputs": [],
   "source": [
    "def say_hello() :\n",
    "    \n",
    "    print('안녕하세요')\n",
    "    return'안녕하세요'\n",
    "\n",
    "a = say_hello()\n",
    "a"
   ]
  },
  {
   "cell_type": "code",
   "execution_count": 4,
   "id": "653dd1a9",
   "metadata": {},
   "outputs": [
    {
     "name": "stdout",
     "output_type": "stream",
     "text": [
      "이름은 홍길동입니다\n",
      "나이는 20입니다\n"
     ]
    },
    {
     "data": {
      "text/plain": [
       "('홍길동', 20)"
      ]
     },
     "execution_count": 4,
     "metadata": {},
     "output_type": "execute_result"
    }
   ],
   "source": [
    "def get_info(name, age) :\n",
    "    \n",
    "    #print('이름은 {}'.format(name))\n",
    "    print(f'이름은 {name}입니다')\n",
    "    print(f'나이는 {age}입니다')\n",
    "    \n",
    "    return name, age # ()생략가능\n",
    "\n",
    "a = get_info('홍길동', 20)\n",
    "a    "
   ]
  },
  {
   "cell_type": "markdown",
   "id": "6c1c38ae",
   "metadata": {},
   "source": [
    "### 전역변수 vs 지역변수"
   ]
  },
  {
   "cell_type": "code",
   "execution_count": null,
   "id": "a605ac21",
   "metadata": {},
   "outputs": [],
   "source": [
    "a = '홍길자' # 전역변수\n",
    "\n",
    "def func1() :\n",
    "    print(a) # 전역변수의 사용 o\n",
    "    b = 10 # 지역변수\n",
    "\n",
    "#b #전역에서 지역의 참조는 불가능함"
   ]
  },
  {
   "cell_type": "code",
   "execution_count": 6,
   "id": "e1928368",
   "metadata": {},
   "outputs": [
    {
     "name": "stdout",
     "output_type": "stream",
     "text": [
      "before 10\n",
      "after 100\n"
     ]
    }
   ],
   "source": [
    "c = 10\n",
    "def func2() :\n",
    "    global c # 변수 사용 전에 global 키워드를 사용하면 전역변수 참조가 들어갑니다\n",
    "    print('before', c) # c가 함수안에 선언된 지역변수를 참조하면서 값이 없기 때문에 에러 \n",
    "    c = 100\n",
    "    print('after', c)\n",
    "    \n",
    "func2()"
   ]
  },
  {
   "cell_type": "code",
   "execution_count": 7,
   "id": "0a45aa9b",
   "metadata": {},
   "outputs": [
    {
     "name": "stdout",
     "output_type": "stream",
     "text": [
      "hello\n"
     ]
    }
   ],
   "source": [
    "# 파이썬 함수는, 함수를 변수에 저장하는게 가능합니다.\n",
    "\n",
    "def func3() :\n",
    "    print('hello')\n",
    "    \n",
    "a = func3\n",
    "a()"
   ]
  },
  {
   "cell_type": "markdown",
   "id": "797244ab",
   "metadata": {},
   "source": [
    "### 함수의 default 키워드 keword 매개변수"
   ]
  },
  {
   "cell_type": "code",
   "execution_count": 13,
   "id": "b0b08003",
   "metadata": {},
   "outputs": [
    {
     "data": {
      "text/plain": [
       "2500"
      ]
     },
     "execution_count": 13,
     "metadata": {},
     "output_type": "execute_result"
    }
   ],
   "source": [
    "# default 매개변수\n",
    "# 가장 마지막에 작성\n",
    "# 만약 값을 전달하지 않으면 기본값으로 사용이 됩니다\n",
    "\n",
    "def calc(begin, end=10, step = 1) :\n",
    "    \n",
    "    sum = 0\n",
    "    for i in range(begin, end+1, step) :\n",
    "        sum += i\n",
    "    return sum\n",
    "\n",
    "calc(1)\n",
    "calc(1, 100)\n",
    "calc(1, 100, 2)"
   ]
  },
  {
   "cell_type": "code",
   "execution_count": 16,
   "id": "0ddf8330",
   "metadata": {},
   "outputs": [
    {
     "name": "stdout",
     "output_type": "stream",
     "text": [
      "1 10 1\n",
      "1 10 2\n",
      "1 100 2\n",
      "hello world bye\n"
     ]
    }
   ],
   "source": [
    "# 키워드 매개변수는 함수를 호출할 때 매개변수를 명칭해서 값을 전달하는 방법\n",
    "\n",
    "def calc2(begin, end, step) :\n",
    "    print(begin, end, step)\n",
    "\n",
    "calc2(begin = 1, end = 10, step = 1)\n",
    "calc2(end = 10, begin = 1, step = 2)\n",
    "calc2(step = 2, end = 100, begin = 1)\n",
    "\n",
    "print('hello', 'world', 'bye', sep = '-', end = '') # 키워드 매개변수 개념"
   ]
  },
  {
   "cell_type": "markdown",
   "id": "5c10b5cd",
   "metadata": {},
   "source": [
    "### 모듈 임포트\n",
    "\n",
    "파이썬에서 모듈은 미리 만들어진 스크립트 파일 py\n",
    "기본모듈은 주피터 내장으로 build-in되어 있습니다"
   ]
  },
  {
   "cell_type": "code",
   "execution_count": 18,
   "id": "8fcd6eda",
   "metadata": {},
   "outputs": [
    {
     "ename": "TypeError",
     "evalue": "math.ceil() takes exactly one argument (2 given)",
     "output_type": "error",
     "traceback": [
      "\u001b[1;31m---------------------------------------------------------------------------\u001b[0m",
      "\u001b[1;31mTypeError\u001b[0m                                 Traceback (most recent call last)",
      "Cell \u001b[1;32mIn[18], line 4\u001b[0m\n\u001b[0;32m      1\u001b[0m \u001b[38;5;28;01mimport\u001b[39;00m \u001b[38;5;21;01mmath\u001b[39;00m \u001b[38;5;66;03m#math 모듈을 가져옴\u001b[39;00m\n\u001b[0;32m      3\u001b[0m math\u001b[38;5;241m.\u001b[39mpi\n\u001b[1;32m----> 4\u001b[0m math\u001b[38;5;241m.\u001b[39mceil(\u001b[38;5;241m10\u001b[39m, \u001b[38;5;241m3\u001b[39m)\n",
      "\u001b[1;31mTypeError\u001b[0m: math.ceil() takes exactly one argument (2 given)"
     ]
    }
   ],
   "source": [
    "import math #math 모듈을 가져옴\n",
    "\n",
    "math.pi\n",
    "math.ceil(3.14) #올림\n",
    "math.floor(3.14) #내림"
   ]
  },
  {
   "cell_type": "code",
   "execution_count": 19,
   "id": "8342d394",
   "metadata": {},
   "outputs": [
    {
     "data": {
      "text/plain": [
       "3.141592653589793"
      ]
     },
     "execution_count": 19,
     "metadata": {},
     "output_type": "execute_result"
    }
   ],
   "source": [
    "from math import ceil, floor, pi # math 모듈에서 특정 기능만 가져오기\n",
    "\n",
    "ceil(3.14)\n",
    "floor(3.14)\n",
    "pi"
   ]
  },
  {
   "cell_type": "code",
   "execution_count": null,
   "id": "599c3264",
   "metadata": {},
   "outputs": [],
   "source": [
    "from math import ceil as c1, floor as f1, pi as p\n",
    "\n",
    "c1(3.14)\n",
    "f1(3.14)\n",
    "p"
   ]
  },
  {
   "cell_type": "code",
   "execution_count": null,
   "id": "2cc32196",
   "metadata": {},
   "outputs": [],
   "source": [
    "import pandas as pd\n",
    "\n",
    "pd.Series([1,2,3,4,5])\n"
   ]
  },
  {
   "cell_type": "code",
   "execution_count": null,
   "id": "994face8",
   "metadata": {},
   "outputs": [],
   "source": []
  },
  {
   "cell_type": "code",
   "execution_count": null,
   "id": "cc36e541",
   "metadata": {},
   "outputs": [],
   "source": []
  },
  {
   "cell_type": "code",
   "execution_count": null,
   "id": "a47bf371",
   "metadata": {},
   "outputs": [],
   "source": []
  },
  {
   "cell_type": "code",
   "execution_count": null,
   "id": "ba63f903",
   "metadata": {},
   "outputs": [],
   "source": []
  },
  {
   "cell_type": "code",
   "execution_count": null,
   "id": "3dd5ea85",
   "metadata": {},
   "outputs": [],
   "source": []
  }
 ],
 "metadata": {
  "kernelspec": {
   "display_name": "Python 3 (ipykernel)",
   "language": "python",
   "name": "python3"
  },
  "language_info": {
   "codemirror_mode": {
    "name": "ipython",
    "version": 3
   },
   "file_extension": ".py",
   "mimetype": "text/x-python",
   "name": "python",
   "nbconvert_exporter": "python",
   "pygments_lexer": "ipython3",
   "version": "3.11.4"
  }
 },
 "nbformat": 4,
 "nbformat_minor": 5
}
