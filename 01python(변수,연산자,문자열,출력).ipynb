{
 "cells": [
  {
   "cell_type": "markdown",
   "id": "54029b4e",
   "metadata": {},
   "source": [
    "###단축키목록\n",
    "\n",
    "a: 위에 셀삽입\n",
    "b: 아래에 셀삽입\n",
    "ctrl + enter: 코드 실행\n",
    "shift + enter: 코드 실행 후 다음 행으로 넘어감\n",
    "y: 프로그램모드\n",
    "m: 마크다운모드\n",
    "dd: 셀삭제\n",
    "alt + a: 전체선택 + ctrl + enter 전체실행\n",
    "\n",
    "===============================\n",
    "\n",
    "<hr/>\n",
    "\n",
    "파이썬 내장함수명으로 변수를 선언하게 되면, 기존의 내장함수를 사용하지 못하는데, 중지 버튼 눌러서 커널을 초기화 해주면 됩니다\n"
   ]
  },
  {
   "cell_type": "markdown",
   "id": "f4ab501a",
   "metadata": {},
   "source": [
    "#변수\n",
    "#세미콜론은 찍어도 되고, 찍지 않아도 됩니다.\n",
    "a = 'hello'; #문자열(크기제한x)\n",
    "b = 1 #숫자\n",
    "c = 3.14 #float\n",
    "d = True #False boolean 첫글자는 대문자\n",
    "\n",
    "d"
   ]
  },
  {
   "cell_type": "code",
   "execution_count": 9,
   "id": "2c462bb6",
   "metadata": {},
   "outputs": [
    {
     "data": {
      "text/plain": [
       "2"
      ]
     },
     "execution_count": 9,
     "metadata": {},
     "output_type": "execute_result"
    }
   ],
   "source": [
    "#연산자\n",
    "# +, -, *, /, %\n",
    "\n",
    "10 * 20\n",
    "20 / 2 #파이썬의 / 연산은 항상 실수형입니다\n",
    "20 % 3"
   ]
  },
  {
   "cell_type": "code",
   "execution_count": 13,
   "id": "c952be63",
   "metadata": {},
   "outputs": [
    {
     "data": {
      "text/plain": [
       "False"
      ]
     },
     "execution_count": 13,
     "metadata": {},
     "output_type": "execute_result"
    }
   ],
   "source": [
    "#연산자\n",
    "#==, !=, >=, >, &, | (and, or는 한개만)\n",
    "# or and not\n",
    "\n",
    "\n",
    "True or False\n",
    "True | False\n",
    "not True\n",
    "True and True\n",
    "False & False\n"
   ]
  },
  {
   "cell_type": "code",
   "execution_count": 15,
   "id": "07d839a5",
   "metadata": {},
   "outputs": [
    {
     "data": {
      "text/plain": [
       "bool"
      ]
     },
     "execution_count": 15,
     "metadata": {},
     "output_type": "execute_result"
    }
   ],
   "source": [
    "a = 10\n",
    "type(a)\n",
    "\n",
    "b = True\n",
    "type(b)\n"
   ]
  },
  {
   "cell_type": "code",
   "execution_count": 16,
   "id": "6660567a",
   "metadata": {},
   "outputs": [
    {
     "data": {
      "text/plain": [
       "3"
      ]
     },
     "execution_count": 16,
     "metadata": {},
     "output_type": "execute_result"
    }
   ],
   "source": [
    "a = int(3.14)\n",
    "a"
   ]
  },
  {
   "cell_type": "code",
   "execution_count": 17,
   "id": "d8676cdd",
   "metadata": {},
   "outputs": [
    {
     "data": {
      "text/plain": [
       "3.14"
      ]
     },
     "execution_count": 17,
     "metadata": {},
     "output_type": "execute_result"
    }
   ],
   "source": [
    "b = float(\"3.14\")\n",
    "b"
   ]
  },
  {
   "cell_type": "code",
   "execution_count": 18,
   "id": "35c34a38",
   "metadata": {},
   "outputs": [
    {
     "data": {
      "text/plain": [
       "'3'"
      ]
     },
     "execution_count": 18,
     "metadata": {},
     "output_type": "execute_result"
    }
   ],
   "source": [
    "d = str(3)\n",
    "d\n",
    "\n",
    "#바꿀 수 없는 값은 에러\n",
    "#e = int(\"홍길동\")\n",
    "#e"
   ]
  },
  {
   "cell_type": "code",
   "execution_count": 20,
   "id": "e9d51c39",
   "metadata": {},
   "outputs": [],
   "source": [
    "### 문자열 연산"
   ]
  },
  {
   "cell_type": "code",
   "execution_count": 21,
   "id": "c18c86c4",
   "metadata": {},
   "outputs": [
    {
     "data": {
      "text/plain": [
       "'helloworld'"
      ]
     },
     "execution_count": 21,
     "metadata": {},
     "output_type": "execute_result"
    }
   ],
   "source": [
    "'hello' + 'world'"
   ]
  },
  {
   "cell_type": "code",
   "execution_count": 22,
   "id": "216c2a3d",
   "metadata": {},
   "outputs": [
    {
     "data": {
      "text/plain": [
       "'hellohellohellohellohellohellohellohellohellohello'"
      ]
     },
     "execution_count": 22,
     "metadata": {},
     "output_type": "execute_result"
    }
   ],
   "source": [
    "'hello' *10  # 문자열은 곱하기 연산이 가능함"
   ]
  },
  {
   "cell_type": "code",
   "execution_count": 23,
   "id": "f1e2e572",
   "metadata": {},
   "outputs": [
    {
     "ename": "TypeError",
     "evalue": "can only concatenate str (not \"int\") to str",
     "output_type": "error",
     "traceback": [
      "\u001b[1;31m---------------------------------------------------------------------------\u001b[0m",
      "\u001b[1;31mTypeError\u001b[0m                                 Traceback (most recent call last)",
      "Cell \u001b[1;32mIn[23], line 1\u001b[0m\n\u001b[1;32m----> 1\u001b[0m \u001b[38;5;124m'\u001b[39m\u001b[38;5;124mhello\u001b[39m\u001b[38;5;124m'\u001b[39m \u001b[38;5;241m+\u001b[39m \u001b[38;5;241m10\u001b[39m\n",
      "\u001b[1;31mTypeError\u001b[0m: can only concatenate str (not \"int\") to str"
     ]
    }
   ],
   "source": [
    "'hello' + 10 # 서로 다른 타입을 더하기 연산시 에러발생"
   ]
  },
  {
   "cell_type": "code",
   "execution_count": 26,
   "id": "333994a3",
   "metadata": {},
   "outputs": [
    {
     "data": {
      "text/plain": [
       "\"나는 마음속으로 생각하고 있습니다. 'python을 가르키기 싫다고..' 분명히 혼자할 수도 있을텐데...\""
      ]
     },
     "execution_count": 26,
     "metadata": {},
     "output_type": "execute_result"
    }
   ],
   "source": [
    "str = '나는 마음속으로 생각하고 있습니다. \\'python을 가르키기 싫다고..\\' 분명히 혼자할 수도 있을텐데...'\n",
    "str"
   ]
  },
  {
   "cell_type": "code",
   "execution_count": 29,
   "id": "5469d92e",
   "metadata": {},
   "outputs": [
    {
     "name": "stdout",
     "output_type": "stream",
     "text": [
      "아 월요일이네 \n",
      "집에 가고 싶다\n"
     ]
    }
   ],
   "source": [
    "str = '''아 월요일이네 \\n집에 가고 싶다'''\n",
    "print(str)"
   ]
  },
  {
   "cell_type": "code",
   "execution_count": 30,
   "id": "28a24d6d",
   "metadata": {},
   "outputs": [],
   "source": [
    "###문자열 함수"
   ]
  },
  {
   "cell_type": "code",
   "execution_count": 34,
   "id": "2b8ade93",
   "metadata": {},
   "outputs": [
    {
     "data": {
      "text/plain": [
       "['홍길동', '20세', '111-222-333']"
      ]
     },
     "execution_count": 34,
     "metadata": {},
     "output_type": "execute_result"
    }
   ],
   "source": [
    "#.찍고 탭 => \n",
    "#shift + tab => 함수의 역할에 대한 정보를 얻을 수 있음\n",
    "str.count('아') #아 의 개수\n",
    "\n",
    "str.find('집') #'집'의 위치\n",
    "\n",
    "str.replace('집', 'home') #원본 문자는 변경이 없음\n",
    "str\n",
    "\n",
    "str = '홍길동|20세|111-222-333'\n",
    "str.split('|')\n",
    "\n",
    "#공통내장함수 -> 파이썬에서는 어디서든 사용할 수 있는 특정함수들이 있습니다\n",
    "len(str)"
   ]
  },
  {
   "cell_type": "code",
   "execution_count": 36,
   "id": "57f85cf7",
   "metadata": {},
   "outputs": [],
   "source": [
    "# 출력의 형태"
   ]
  },
  {
   "cell_type": "code",
   "execution_count": 40,
   "id": "926445c6",
   "metadata": {},
   "outputs": [
    {
     "name": "stdout",
     "output_type": "stream",
     "text": [
      "사과가3개 있습니다\n",
      "사과가-3-개 있습니다\n",
      "사과가 3개 있습니다\n",
      "사과가 3.000개 있습니다. 멜론은 10개 있는데. 헐 맛있겠다\n"
     ]
    }
   ],
   "source": [
    "apple = 3\n",
    "print('사과가', apple, '개 있습니다', sep='')\n",
    "print('사과가', apple, '개 있습니다', sep='-')\n",
    "\n",
    "# .format()\n",
    "print('사과가 {}개 있습니다'.format(apple))\n",
    "\n",
    "melon = 10\n",
    "print( '사과가 {:.3f}개 있습니다. 멜론은 {}개 있는데. {} 맛있겠다'.format(apple, melon, '헐') )\n"
   ]
  },
  {
   "cell_type": "code",
   "execution_count": null,
   "id": "037868b1",
   "metadata": {},
   "outputs": [],
   "source": [
    "### 입력\n",
    "input()\n",
    "\n",
    "Scanner scan = new Scanner(System.in)\n",
    "a = scan.nextInt()"
   ]
  },
  {
   "cell_type": "code",
   "execution_count": null,
   "id": "82068750",
   "metadata": {},
   "outputs": [],
   "source": [
    "a = input()\n",
    "a"
   ]
  },
  {
   "cell_type": "code",
   "execution_count": null,
   "id": "d7424ce8",
   "metadata": {},
   "outputs": [],
   "source": [
    "a = input('할일을 적으세요>')\n",
    "a"
   ]
  },
  {
   "cell_type": "code",
   "execution_count": null,
   "id": "f2160fed",
   "metadata": {},
   "outputs": [],
   "source": [
    "a = int(input('정수로 입력하세요 >'))\n",
    "a\n",
    "\n",
    "type(a)"
   ]
  },
  {
   "cell_type": "code",
   "execution_count": null,
   "id": "0e8cb675",
   "metadata": {},
   "outputs": [],
   "source": []
  },
  {
   "cell_type": "code",
   "execution_count": null,
   "id": "0191b04d",
   "metadata": {},
   "outputs": [],
   "source": []
  }
 ],
 "metadata": {
  "kernelspec": {
   "display_name": "Python 3 (ipykernel)",
   "language": "python",
   "name": "python3"
  },
  "language_info": {
   "codemirror_mode": {
    "name": "ipython",
    "version": 3
   },
   "file_extension": ".py",
   "mimetype": "text/x-python",
   "name": "python",
   "nbconvert_exporter": "python",
   "pygments_lexer": "ipython3",
   "version": "3.11.4"
  }
 },
 "nbformat": 4,
 "nbformat_minor": 5
}
