{
 "cells": [
  {
   "cell_type": "markdown",
   "id": "045da595",
   "metadata": {},
   "source": [
    "### 제어문 if elif else\n",
    "- 파이썬에서는 중괄호가 들여쓰기로 변환됩니다"
   ]
  },
  {
   "cell_type": "code",
   "execution_count": 7,
   "id": "028f2d4e",
   "metadata": {},
   "outputs": [
    {
     "name": "stdout",
     "output_type": "stream",
     "text": [
      "촉법소년 이시네요\n",
      "if문 끝\n"
     ]
    }
   ],
   "source": [
    "age = 10\n",
    "#if age >= 20 {}\n",
    "\n",
    "if age >= 20 :\n",
    "    print('당신은 성인입니다')\n",
    "elif age >= 17 :\n",
    "    print('당신은 고등학생 입니다')\n",
    "elif age >= 14 :\n",
    "    print('당신은 중학생 입니다')\n",
    "else :\n",
    "    print('촉법소년 이시네요')\n",
    "    \n",
    "print('if문 끝')"
   ]
  },
  {
   "cell_type": "markdown",
   "id": "bbc8b274",
   "metadata": {},
   "source": [
    "### 제어문 while"
   ]
  },
  {
   "cell_type": "code",
   "execution_count": null,
   "id": "eedbfa09",
   "metadata": {},
   "outputs": [],
   "source": [
    "n = 1\n",
    "while n <= 10 :\n",
    "    print('hello', n)\n",
    "    \n",
    "    n+=1\n",
    "    #n++ #++은 파이썬에 없습니다\n",
    "\n",
    "print('현재 n의 값:', n)\n"
   ]
  },
  {
   "cell_type": "code",
   "execution_count": 14,
   "id": "c37f3e9d",
   "metadata": {},
   "outputs": [
    {
     "name": "stdout",
     "output_type": "stream",
     "text": [
      "1~10까지 합계 55\n"
     ]
    }
   ],
   "source": [
    "# 1~10까지 합계 구한 사람만 쉬는시간\n",
    "\n",
    "n = 1\n",
    "sum = 0\n",
    "while n<=10:\n",
    "    sum+=n\n",
    "    n+=1\n",
    "    \n",
    "print('1~10까지 합계', sum)"
   ]
  },
  {
   "cell_type": "markdown",
   "id": "d18fba96",
   "metadata": {},
   "source": [
    "### for문\n",
    "- 향상된 포문과 유사함"
   ]
  },
  {
   "cell_type": "code",
   "execution_count": null,
   "id": "8a4b394c",
   "metadata": {},
   "outputs": [],
   "source": [
    "#순서를 가지고 있는 요소 :\n",
    "\n",
    "for i in [1,2,3,4,5,6,7,8,9] :\n",
    "    print(i)\n"
   ]
  },
  {
   "cell_type": "code",
   "execution_count": 12,
   "id": "7a068764",
   "metadata": {},
   "outputs": [
    {
     "name": "stdout",
     "output_type": "stream",
     "text": [
      "안녕하세요 오늘은 날씨가 덥네요\n"
     ]
    }
   ],
   "source": [
    "for i in ['안녕하세요 오늘은 날씨가 덥네요'] :\n",
    "    print(i)"
   ]
  },
  {
   "cell_type": "code",
   "execution_count": 15,
   "id": "08d67157",
   "metadata": {},
   "outputs": [
    {
     "name": "stdout",
     "output_type": "stream",
     "text": [
      "0 1 2 3 4 5 6 7 8 9 1 2 3 4 5 6 7 8 9 "
     ]
    }
   ],
   "source": [
    "#range(10)\n",
    "for i in range(10) :\n",
    "    print(i, end=' ')"
   ]
  },
  {
   "cell_type": "code",
   "execution_count": 16,
   "id": "5210c892",
   "metadata": {},
   "outputs": [
    {
     "name": "stdout",
     "output_type": "stream",
     "text": [
      "1 2 3 4 5 6 7 8 9 "
     ]
    }
   ],
   "source": [
    "for i in range(1,10) : #1이상 10미만\n",
    "    print(i, end= ' ')"
   ]
  },
  {
   "cell_type": "code",
   "execution_count": 17,
   "id": "9bf18c31",
   "metadata": {},
   "outputs": [
    {
     "name": "stdout",
     "output_type": "stream",
     "text": [
      "1 3 5 7 9 "
     ]
    }
   ],
   "source": [
    "for i in range(1, 10, 2) :\n",
    "    print(i, end = ' ')"
   ]
  },
  {
   "cell_type": "markdown",
   "id": "3d8f9a1e",
   "metadata": {},
   "source": [
    "### 탈출문 break, continue, pass"
   ]
  },
  {
   "cell_type": "code",
   "execution_count": 19,
   "id": "6c202c47",
   "metadata": {},
   "outputs": [
    {
     "name": "stdout",
     "output_type": "stream",
     "text": [
      "1\n",
      "2\n",
      "3\n",
      "4\n",
      "6\n",
      "7\n",
      "8\n",
      "9\n",
      "10\n"
     ]
    }
   ],
   "source": [
    "for i in range(1,11) : #1~11미만\n",
    "    \n",
    "    if i == 5 :\n",
    "        #break\n",
    "        continue\n",
    "    \n",
    "    print(i)"
   ]
  },
  {
   "cell_type": "markdown",
   "id": "932298b6",
   "metadata": {},
   "source": [
    "### 데이터 구조 list"
   ]
  },
  {
   "cell_type": "code",
   "execution_count": 20,
   "id": "8eec75b2",
   "metadata": {},
   "outputs": [
    {
     "data": {
      "text/plain": [
       "[0, 1, 2, 3, 4, 5, 6, 7, 8, 9]"
      ]
     },
     "execution_count": 20,
     "metadata": {},
     "output_type": "execute_result"
    }
   ],
   "source": [
    "# 리스트는 순서를 가지는 자료형 (ex: arrayList)\n",
    "a = []\n",
    "a = list() #빈 리스트\n",
    "a = [1,2,3,4,5,6,7,8,9]\n",
    "a = list(range(10))\n",
    "a"
   ]
  },
  {
   "cell_type": "code",
   "execution_count": 21,
   "id": "1962587a",
   "metadata": {},
   "outputs": [
    {
     "data": {
      "text/plain": [
       "[0, 1, 2, 3, 4, 5, 6, 7, 8, 9, 10]"
      ]
     },
     "execution_count": 21,
     "metadata": {},
     "output_type": "execute_result"
    }
   ],
   "source": [
    "# append - 끝에 추가\n",
    "# insert - 중간에 추가\n",
    "# remove - 삭제\n",
    "# 공용함수 del - 삭제\n",
    "\n",
    "a.append(10)\n",
    "a"
   ]
  },
  {
   "cell_type": "code",
   "execution_count": 23,
   "id": "4519aff5",
   "metadata": {},
   "outputs": [],
   "source": [
    "a.insert(1, 'hello') #인덱스, 값"
   ]
  },
  {
   "cell_type": "code",
   "execution_count": 26,
   "id": "f4137c90",
   "metadata": {},
   "outputs": [
    {
     "data": {
      "text/plain": [
       "[0, 1, 2, 3, 4, 5, 6, 7, 8, 9, 10]"
      ]
     },
     "execution_count": 26,
     "metadata": {},
     "output_type": "execute_result"
    }
   ],
   "source": [
    "a"
   ]
  },
  {
   "cell_type": "code",
   "execution_count": 25,
   "id": "c516f1d0",
   "metadata": {},
   "outputs": [],
   "source": [
    "a.remove('hello') #값으로 삭제 (가장 첫번째 발견되는 값 삭제)"
   ]
  },
  {
   "cell_type": "code",
   "execution_count": null,
   "id": "270202e1",
   "metadata": {},
   "outputs": [],
   "source": [
    "del(a[0]) #인덱스 번호로 삭제할 때는 공용내장함수 del"
   ]
  },
  {
   "cell_type": "code",
   "execution_count": 28,
   "id": "f3b0ba4d",
   "metadata": {},
   "outputs": [],
   "source": [
    "del( a[len(a)-1] )"
   ]
  },
  {
   "cell_type": "markdown",
   "id": "73322976",
   "metadata": {},
   "source": [
    "### 인덱싱, 슬라이싱"
   ]
  },
  {
   "cell_type": "code",
   "execution_count": 30,
   "id": "ade9a0b2",
   "metadata": {},
   "outputs": [
    {
     "data": {
      "text/plain": [
       "[10, 2, 3, 4, 5]"
      ]
     },
     "execution_count": 30,
     "metadata": {},
     "output_type": "execute_result"
    }
   ],
   "source": [
    "# 리스트 인덱싱 - 리스트의 인덱스 번호로 값을 변경, 확인\n",
    "a = [1,2,3,4,5]\n",
    "a[0] = 10 # 값의 변경\n",
    "a"
   ]
  },
  {
   "cell_type": "code",
   "execution_count": 38,
   "id": "094eedce",
   "metadata": {},
   "outputs": [
    {
     "name": "stdout",
     "output_type": "stream",
     "text": [
      "[0, 1, 2, 3, 4, 5, 6, 7, 8, 9]\n",
      "[0, 1, 2]\n",
      "[0, 2, 4, 6]\n",
      "[0, 1, 2, 3, 4]\n",
      "[3, 4, 5, 6, 7, 8, 9]\n",
      "[0, 3, 6, 9]\n"
     ]
    }
   ],
   "source": [
    "# 리스트 슬라이싱 - 리스트(시작: 끝: 스탭) # 끝지점 미만까지 슬라이싱\n",
    "a = list(range(10))\n",
    "print(a)\n",
    "\n",
    "print(a[0: 3]) #0~3미만 리스트 슬라이싱\n",
    "print(a[0 : 7 : 2])\n",
    "print(a[ : 5]) #앞을 비워두면 처음부터\n",
    "print(a[3 : ]) #뒤를 비워주면 끝까지\n",
    "\n",
    "print(a[ : : 3])"
   ]
  },
  {
   "cell_type": "code",
   "execution_count": 39,
   "id": "cb8fb674",
   "metadata": {},
   "outputs": [
    {
     "name": "stdout",
     "output_type": "stream",
     "text": [
      "아 점심 먹을 시간인데... 수업을 더 할껀데?"
     ]
    }
   ],
   "source": [
    "#문자열로 리스트입니다\n",
    "str = '아 점심 먹을 시간인데... 수업을 더 할껀데?'\n",
    "str[:3]\n",
    "\n",
    "for i in str :\n",
    "    print(i, end='')"
   ]
  },
  {
   "cell_type": "code",
   "execution_count": null,
   "id": "968cdd6e",
   "metadata": {},
   "outputs": [],
   "source": [
    "# 리스트 연산 + , * 연산\n",
    "\n",
    "list1 = [1,2,3,4,5]\n",
    "list2 = list(range(1,3))\n",
    "\n",
    "list2"
   ]
  },
  {
   "cell_type": "markdown",
   "id": "7e51b7ed",
   "metadata": {},
   "source": [
    "### 튜플(tuple)\n",
    "\n",
    "-튜플은 집합\n",
    "-리스트와 비슷하지만, 변경불가한 리스트 (한번 값이 저장되면, 값의 변경 불가)"
   ]
  },
  {
   "cell_type": "code",
   "execution_count": 9,
   "id": "ae1a428c",
   "metadata": {},
   "outputs": [
    {
     "data": {
      "text/plain": [
       "(1, 2, 3, 4, 5)"
      ]
     },
     "execution_count": 9,
     "metadata": {},
     "output_type": "execute_result"
    }
   ],
   "source": [
    "# 튜플은 ()로 생성\n",
    "point = (1,2,3,4,5)\n",
    "point = tuple( range(1,6) )\n",
    "point = 1,2,3,4,5 # () 생략이 가능\n",
    "point"
   ]
  },
  {
   "cell_type": "code",
   "execution_count": 10,
   "id": "6e9e42a0",
   "metadata": {},
   "outputs": [
    {
     "data": {
      "text/plain": [
       "(1, 2, 3, 4, 5, 1, 2, 3, 4, 5, 1, 2, 3, 4, 5)"
      ]
     },
     "execution_count": 10,
     "metadata": {},
     "output_type": "execute_result"
    }
   ],
   "source": [
    "# 튜플의 인덱싱, 슬라이싱\n",
    "\n",
    "point[0]\n",
    "point[4]\n",
    "\n",
    "point[:3]\n",
    "point[1:3]\n",
    "\n",
    "#튜플의 연산\n",
    "point + (1,2)\n",
    "point * 3"
   ]
  },
  {
   "cell_type": "code",
   "execution_count": null,
   "id": "6fba1370",
   "metadata": {},
   "outputs": [],
   "source": [
    "#튜플에서 불가능한 문법\n",
    "\n",
    "#point[0] = 100 # 값의 변경 불가\n",
    "\n",
    "#point.append(100) # 값을 추가하는 x\n",
    "\n",
    "#del( point[0] ) #값을 삭제 x\n",
    "\n",
    "\n",
    "# 튜플에서 지원하는 함수 count, index\n",
    "point.count(3) # 3의 개수\n",
    "\n",
    "point.index(3) # 3의 위치\n",
    "\n"
   ]
  },
  {
   "cell_type": "markdown",
   "id": "f194c547",
   "metadata": {},
   "source": [
    "### 딕셔너리 (dictionaty)\n",
    "- 사전 (키:값) 값을 저장하는 형태\n",
    "- 자바 map\n",
    "- js obj 입니다\n",
    "- 검색이 빠릅니다"
   ]
  },
  {
   "cell_type": "code",
   "execution_count": 14,
   "id": "69415af4",
   "metadata": {},
   "outputs": [
    {
     "data": {
      "text/plain": [
       "{'a': 1, 'b': 2, 'c': 3}"
      ]
     },
     "execution_count": 14,
     "metadata": {},
     "output_type": "execute_result"
    }
   ],
   "source": [
    "# {}로 생성, 키는 반드시 문자열 이어야 합니다.\n",
    "\n",
    "x = {\"a\": 1, \"b\": 2, \"c\": 3}\n",
    "x"
   ]
  },
  {
   "cell_type": "code",
   "execution_count": null,
   "id": "0c2a3329",
   "metadata": {},
   "outputs": [],
   "source": [
    "len(x) #길이"
   ]
  },
  {
   "cell_type": "code",
   "execution_count": 15,
   "id": "23a94a23",
   "metadata": {},
   "outputs": [
    {
     "data": {
      "text/plain": [
       "{'a': 1, 'b': 2, 'c': 3}"
      ]
     },
     "execution_count": 15,
     "metadata": {},
     "output_type": "execute_result"
    }
   ],
   "source": [
    "#값의 추가 - 키는 고유합니다. 새로운 키로 값을 추가합니다\n",
    "x[\"d\"] = 100\n",
    "x\n",
    "\n",
    "#값의 확인\n",
    "y = x[\"d\"]\n",
    "y\n",
    "\n",
    "#값의 변경 - 동일한 키를 이용해서 변경합ㄴ\n",
    "x[\"d\"] = 'hello'\n",
    "\n",
    "#값이 삭제 - 키를 이용하여 삭제\n",
    "del( (x[\"d\"]) )\n",
    "x"
   ]
  },
  {
   "cell_type": "code",
   "execution_count": 17,
   "id": "4adc4f79",
   "metadata": {},
   "outputs": [
    {
     "name": "stdout",
     "output_type": "stream",
     "text": [
      "apple : 사과\n",
      "melon : 멜론\n",
      "orange : 오렌지\n"
     ]
    }
   ],
   "source": [
    "# 값의 순회 (회전)\n",
    "\n",
    "dic_ = {}\n",
    "dic_\n",
    "\n",
    "dic_[\"apple\"] = \"사과\"\n",
    "dic_[\"melon\"] = \"멜론\"\n",
    "dic_[\"orange\"] = \"오렌지\"\n",
    "\n",
    "dic_\n",
    "\n",
    "for i in dic_ :\n",
    "    print(i, \":\", dic_[i])\n",
    "    \n",
    "dic_.keys() # 키값만 뽑아서 리스트로 반환\n",
    "dic_.values() # 값만 뽑아서 리스트로 반환\n",
    "\n",
    "for i in dic_.keys() :\n",
    "    print(i)\n",
    "    \n"
   ]
  },
  {
   "cell_type": "code",
   "execution_count": null,
   "id": "767b1e06",
   "metadata": {},
   "outputs": [],
   "source": []
  },
  {
   "cell_type": "code",
   "execution_count": null,
   "id": "6c117465",
   "metadata": {},
   "outputs": [],
   "source": []
  },
  {
   "cell_type": "code",
   "execution_count": null,
   "id": "98d5bacb",
   "metadata": {},
   "outputs": [],
   "source": []
  }
 ],
 "metadata": {
  "kernelspec": {
   "display_name": "Python 3 (ipykernel)",
   "language": "python",
   "name": "python3"
  },
  "language_info": {
   "codemirror_mode": {
    "name": "ipython",
    "version": 3
   },
   "file_extension": ".py",
   "mimetype": "text/x-python",
   "name": "python",
   "nbconvert_exporter": "python",
   "pygments_lexer": "ipython3",
   "version": "3.11.4"
  }
 },
 "nbformat": 4,
 "nbformat_minor": 5
}
